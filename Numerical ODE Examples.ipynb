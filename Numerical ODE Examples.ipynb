{
 "cells": [
  {
   "cell_type": "markdown",
   "metadata": {},
   "source": [
    "# Numerical ODEs Course Notes Examples\n",
    "\n",
    "### Theory Questions\n",
    "\n",
    "(page 17) : Why do we know that $\\tau$ is between $t$ and $t_0$? <br>\n",
    "    -   It comes from the Taylor series theorem with remainder\n",
    "\n",
    "(page 28) Intuition for chain rule for 2-var functions\n",
    "\n",
    "Hi Fred was here (git testing).\n",
    "\n",
    "### Setup"
   ]
  },
  {
   "cell_type": "code",
   "execution_count": 5,
   "metadata": {},
   "outputs": [
    {
     "name": "stdout",
     "output_type": "stream",
     "text": [
      "Dependencies installed?\n"
     ]
    },
    {
     "data": {
      "text/plain": [
       "array([0.   , 0.625, 1.25 , 1.875, 2.5  , 3.125, 3.75 , 4.375, 5.   ])"
      ]
     },
     "execution_count": 5,
     "metadata": {},
     "output_type": "execute_result"
    }
   ],
   "source": [
    "import matplotlib.pyplot as plt\n",
    "import numpy as np\n",
    "print(\"Dependencies installed?\")\n",
    "np.linspace(0, 5, 9)"
   ]
  },
  {
   "cell_type": "markdown",
   "metadata": {},
   "source": [
    "### Helper Functions"
   ]
  },
  {
   "cell_type": "code",
   "execution_count": null,
   "metadata": {},
   "outputs": [],
   "source": [
    "def plot_slope_field(f, x_min = -2, x_max = 2, y_min = -2, y_max = 2, x_spacing = 0.25, y_spacing = -1):\n",
    "    if(y_spacing < 0):\n",
    "        y_spacing = x_spacing\n",
    "\n",
    "    fig, ax = plt.subplots()\n",
    "\n",
    "    X, Y = np.meshgrid(np.arange(x_min, x_max, x_spacing), np.arange(y_min, y_max, y_spacing))\n",
    "    \n",
    "    dY_dX = f(X, Y) \n",
    "    \n",
    "    ax.quiver(X, Y, 1, dY_dX)\n",
    "\n",
    "    return fig, ax\n",
    "\n",
    "def plot_slope_field_system(f, param, x_min = -2, x_max = 2, y_min = -2, y_max = 2, x_spacing = 0.25, y_spacing = -1):\n",
    "    if(y_spacing < 0):\n",
    "        y_spacing = x_spacing\n",
    "\n",
    "    fig, ax = plt.subplots()\n",
    "\n",
    "    X, Y = np.meshgrid(np.arange(x_min, x_max, x_spacing), np.arange(y_min, y_max, y_spacing))\n",
    "    \n",
    "    dY_dX = f(0, [X, Y], param) \n",
    "    \n",
    "    ax.quiver(X, Y, dY_dX[0], dY_dX[1])\n",
    "\n",
    "    return fig, ax"
   ]
  },
  {
   "cell_type": "markdown",
   "metadata": {},
   "source": [
    "## Chapter 1 | Preliminaries\n",
    "\n",
    "Here we give some function definitions from equations in chapter 1"
   ]
  },
  {
   "cell_type": "code",
   "execution_count": null,
   "metadata": {},
   "outputs": [],
   "source": [
    "def dy_dt_twisty(t, y, param = 0):\n",
    "    '''\n",
    "    Twisty Slope Field (1.19) \n",
    "    '''\n",
    "    return np.array([t * np.cos(y) - y * np.sin(t)])"
   ]
  },
  {
   "cell_type": "code",
   "execution_count": null,
   "metadata": {},
   "outputs": [],
   "source": [
    "def dy_dt_pred_prey(t, y, param):\n",
    "    '''\n",
    "    y should have components:\n",
    "    y[0] : aphids\n",
    "    y[1] : ladybugs\n",
    "\n",
    "    returns derivatives of each component of y.\n",
    "    '''\n",
    "    dy0_dt = param * y[0] * (1 - y[1])\n",
    "    dy1_dt = y[1] * (y[0] - 1)\n",
    "\n",
    "    return np.array([dy0_dt, dy1_dt])"
   ]
  },
  {
   "cell_type": "markdown",
   "metadata": {},
   "source": [
    "## Chapter 2 | Euler's Method and Taylor Series Methods"
   ]
  },
  {
   "cell_type": "code",
   "execution_count": null,
   "metadata": {},
   "outputs": [],
   "source": [
    "def solve_Euler(f, times, y_0, param = 0):\n",
    "    '''\n",
    "    Solves IVP using Euler method\n",
    "\n",
    "    Input f : f(t, y) = dy/dy evaluated at (t, y).\n",
    "    '''\n",
    "\n",
    "    y_0 = np.array(y_0)\n",
    "\n",
    "    no_of_times = times.size\n",
    "    no_of_eqns = y_0.size\n",
    "    Y = np.zeros((no_of_times, no_of_eqns))    \n",
    "    Y[0] = y_0   \n",
    "\n",
    "    for i in range(no_of_times - 1):\n",
    "        h = times[i + 1] - times[i]\n",
    "        Y[i + 1] = Y[i] + h * f(times[i], Y[i], param)\n",
    "        \n",
    "    return Y"
   ]
  },
  {
   "cell_type": "markdown",
   "metadata": {},
   "source": [
    "Below is a plot of the approximate solution to the IVP involving the twisty slope field (1.19)."
   ]
  },
  {
   "cell_type": "code",
   "execution_count": null,
   "metadata": {},
   "outputs": [],
   "source": [
    "t_0, t_max = 0, 20\n",
    "y_0 = np.array([2])\n",
    "\n",
    "fig, ax = plot_slope_field(dy_dt_twisty, t_0 - 1, t_max + 1, -5, 5, 0.5)\n",
    "\n",
    "N = [20, 40, 80]\n",
    "\n",
    "for n in N:\n",
    "    T = np.linspace(t_0, t_max, n + 1)\n",
    "\n",
    "    sol = solve_Euler(dy_dt_twisty, T, -3)\n",
    "\n",
    "    ax.plot(T, sol, label = \"n = \" + str(n))\n",
    "\n",
    "ax.set_xlim(left = t_0 - 1, right = t_max + 1)\n",
    "ax.set_ylim(bottom = -5, top = 5)\n",
    "fig.legend()\n",
    "\n",
    "fig.show()"
   ]
  },
  {
   "cell_type": "markdown",
   "metadata": {},
   "source": [
    "Below is a plot of the lotka-volterra predator-prey model of aphids and ladybugs (1.6)"
   ]
  },
  {
   "cell_type": "code",
   "execution_count": null,
   "metadata": {},
   "outputs": [],
   "source": [
    "y_0 = np.array([0.5, 0.5])\n",
    "t_0, t_max = 0, 10\n",
    "\n",
    "fig, ax = plot_slope_field_system(dy_dt_pred_prey, 2, 0, 3, 0, 3, 0.1)\n",
    "\n",
    "N = [1001]\n",
    "\n",
    "for n in N:\n",
    "    T = np.linspace(t_0, t_max, n + 1)\n",
    "\n",
    "    sol = solve_Euler(dy_dt_pred_prey, T, y_0, param= 2)\n",
    "\n",
    "    ax.plot(sol[:,0], sol[:,1], label = \"n = \" + str(n))\n",
    "\n",
    "ax.set_xlim(left = 0, right = 3)\n",
    "ax.set_ylim(bottom = 0, top = 3)\n",
    "fig.legend()\n",
    "\n",
    "fig.show()\n",
    "\n"
   ]
  }
 ],
 "metadata": {
  "kernelspec": {
   "display_name": "Python 3.10.11 64-bit (microsoft store)",
   "language": "python",
   "name": "python3"
  },
  "language_info": {
   "codemirror_mode": {
    "name": "ipython",
    "version": 3
   },
   "file_extension": ".py",
   "mimetype": "text/x-python",
   "name": "python",
   "nbconvert_exporter": "python",
   "pygments_lexer": "ipython3",
   "version": "3.10.11"
  },
  "vscode": {
   "interpreter": {
    "hash": "7b99e7a9e38f62571a159251c5126675e610ce653eaf3a03a9f836f8007dcf3a"
   }
  }
 },
 "nbformat": 4,
 "nbformat_minor": 2
}
